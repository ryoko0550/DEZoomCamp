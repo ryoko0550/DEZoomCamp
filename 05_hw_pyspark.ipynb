{
 "cells": [
  {
   "cell_type": "code",
   "execution_count": 1,
   "id": "7a44db49-3538-4e40-820c-da8d9e9ce673",
   "metadata": {},
   "outputs": [],
   "source": [
    "import pyspark"
   ]
  },
  {
   "cell_type": "code",
   "execution_count": 2,
   "id": "6a246665-3198-4093-8474-0985b1a1bbd3",
   "metadata": {},
   "outputs": [
    {
     "data": {
      "text/plain": [
       "'/usr/local/lib/python3.9/site-packages/pyspark/__init__.py'"
      ]
     },
     "execution_count": 2,
     "metadata": {},
     "output_type": "execute_result"
    }
   ],
   "source": [
    "pyspark.__file__"
   ]
  },
  {
   "cell_type": "code",
   "execution_count": 3,
   "id": "93735265-ba25-4431-b09b-16a80ac450aa",
   "metadata": {},
   "outputs": [],
   "source": [
    "from pyspark.sql import SparkSession"
   ]
  },
  {
   "cell_type": "code",
   "execution_count": 4,
   "id": "d315e43d-7145-44b2-953e-7b59e7425c10",
   "metadata": {},
   "outputs": [
    {
     "name": "stderr",
     "output_type": "stream",
     "text": [
      "Setting default log level to \"WARN\".\n",
      "To adjust logging level use sc.setLogLevel(newLevel). For SparkR, use setLogLevel(newLevel).\n",
      "25/03/03 21:11:12 WARN NativeCodeLoader: Unable to load native-hadoop library for your platform... using builtin-java classes where applicable\n"
     ]
    }
   ],
   "source": [
    "spark = SparkSession.builder \\\n",
    "    .master(\"local[*]\") \\\n",
    "    .appName('test') \\\n",
    "    .getOrCreate()"
   ]
  },
  {
   "cell_type": "code",
   "execution_count": 5,
   "id": "6aeb5ad1-ddae-46f2-aaeb-cb112752371b",
   "metadata": {},
   "outputs": [
    {
     "data": {
      "text/plain": [
       "'3.5.4'"
      ]
     },
     "execution_count": 5,
     "metadata": {},
     "output_type": "execute_result"
    }
   ],
   "source": [
    "spark.version"
   ]
  },
  {
   "cell_type": "code",
   "execution_count": 10,
   "id": "4eb7f7bb-55a5-4586-ab0b-24df8f8cf039",
   "metadata": {},
   "outputs": [
    {
     "name": "stdout",
     "output_type": "stream",
     "text": [
      "  % Total    % Received % Xferd  Average Speed   Time    Time     Time  Current\n",
      "                                 Dload  Upload   Total   Spent    Left  Speed\n",
      "100 61.3M  100 61.3M    0     0  40.7M      0  0:00:01  0:00:01 --:--:-- 40.8M\n"
     ]
    }
   ],
   "source": [
    "!curl -o yellow_tripdata_2024-10.parquet https://d37ci6vzurychx.cloudfront.net/trip-data/yellow_tripdata_2024-10.parquet"
   ]
  },
  {
   "cell_type": "code",
   "execution_count": 11,
   "id": "ba3341d8-3662-42a2-8154-ad50256580bc",
   "metadata": {},
   "outputs": [
    {
     "name": "stderr",
     "output_type": "stream",
     "text": [
      "                                                                                "
     ]
    }
   ],
   "source": [
    "df = spark.read \\\n",
    "    .parquet('yellow_tripdata_2024-10.parquet')"
   ]
  },
  {
   "cell_type": "code",
   "execution_count": 26,
   "id": "7a192f01-e929-4b10-a14b-6bea74d3c692",
   "metadata": {},
   "outputs": [],
   "source": [
    "df = df.repartition(4)"
   ]
  },
  {
   "cell_type": "code",
   "execution_count": 16,
   "id": "8baaa8c6-27cc-4876-bacf-8455aebd569e",
   "metadata": {},
   "outputs": [
    {
     "name": "stderr",
     "output_type": "stream",
     "text": [
      "                                                                                "
     ]
    }
   ],
   "source": [
    "df.write.parquet('yellow_tripdata_2024-10_partition')"
   ]
  },
  {
   "cell_type": "code",
   "execution_count": 18,
   "id": "e2a32752-58fb-4ebb-a211-94a11e15d437",
   "metadata": {},
   "outputs": [],
   "source": [
    "import pandas as pd"
   ]
  },
  {
   "cell_type": "code",
   "execution_count": 20,
   "id": "90358cf2-e8dd-4bdb-8ab2-ab6f8fe64f80",
   "metadata": {},
   "outputs": [
    {
     "data": {
      "text/plain": [
       "StructType([StructField('VendorID', IntegerType(), True), StructField('tpep_pickup_datetime', TimestampNTZType(), True), StructField('tpep_dropoff_datetime', TimestampNTZType(), True), StructField('passenger_count', LongType(), True), StructField('trip_distance', DoubleType(), True), StructField('RatecodeID', LongType(), True), StructField('store_and_fwd_flag', StringType(), True), StructField('PULocationID', IntegerType(), True), StructField('DOLocationID', IntegerType(), True), StructField('payment_type', LongType(), True), StructField('fare_amount', DoubleType(), True), StructField('extra', DoubleType(), True), StructField('mta_tax', DoubleType(), True), StructField('tip_amount', DoubleType(), True), StructField('tolls_amount', DoubleType(), True), StructField('improvement_surcharge', DoubleType(), True), StructField('total_amount', DoubleType(), True), StructField('congestion_surcharge', DoubleType(), True), StructField('Airport_fee', DoubleType(), True)])"
      ]
     },
     "execution_count": 20,
     "metadata": {},
     "output_type": "execute_result"
    }
   ],
   "source": [
    "df.schema"
   ]
  },
  {
   "cell_type": "code",
   "execution_count": 22,
   "id": "71083df5-4046-4c18-84a5-b445412b1cc9",
   "metadata": {},
   "outputs": [],
   "source": [
    "from pyspark.sql import types"
   ]
  },
  {
   "cell_type": "code",
   "execution_count": 95,
   "id": "84aff042-d73d-4bac-9d89-572c7d7312ad",
   "metadata": {},
   "outputs": [],
   "source": [
    "yellow_schema = types.StructType([\n",
    "    types.StructField('VendorID', types.IntegerType(), True), \n",
    "    types.StructField('tpep_pickup_datetime', types.TimestampType(), True), \n",
    "    types.StructField('tpep_dropoff_datetime', types.TimestampType(), True), \n",
    "    types.StructField('passenger_count', types.IntegerType(), True), \n",
    "    types.StructField('trip_distance', types.DoubleType(), True), \n",
    "    types.StructField('RatecodeID', types.IntegerType(), True), \n",
    "    types.StructField('store_and_fwd_flag', types.StringType(), True), \n",
    "    types.StructField('PULocationID', types.IntegerType(), True), \n",
    "    types.StructField('DOLocationID', types.IntegerType(), True), \n",
    "    types.StructField('payment_type', types.IntegerType(), True), \n",
    "    types.StructField('fare_amount', types.DoubleType(), True), \n",
    "    types.StructField('extra', types.DoubleType(), True), \n",
    "    types.StructField('mta_tax', types.DoubleType(), True), \n",
    "    types.StructField('tip_amount', types.DoubleType(), True), \n",
    "    types.StructField('tolls_amount', types.DoubleType(), True), \n",
    "    types.StructField('improvement_surcharge', types.DoubleType(), True), \n",
    "    types.StructField('total_amount', types.DoubleType(), True), \n",
    "    types.StructField('congestion_surcharge', types.DoubleType(), True), \n",
    "    types.StructField('Airport_fee', types.DoubleType(), True)])"
   ]
  },
  {
   "cell_type": "code",
   "execution_count": 96,
   "id": "cc05321e-9d22-400d-8089-26ee73c9e8ca",
   "metadata": {},
   "outputs": [],
   "source": [
    "df = spark.read \\\n",
    "    .schema(yellow_schema) \\\n",
    "    .parquet('yellow_tripdata_2024-10.parquet')"
   ]
  },
  {
   "cell_type": "code",
   "execution_count": 97,
   "id": "74377a09-eb2f-40c7-950d-32aae9a623cb",
   "metadata": {},
   "outputs": [],
   "source": [
    "df.registerTempTable('yellow_trips_data')"
   ]
  },
  {
   "cell_type": "code",
   "execution_count": 98,
   "id": "88feca3b-bfe4-4f22-9643-e2585b4f9d8a",
   "metadata": {},
   "outputs": [
    {
     "name": "stderr",
     "output_type": "stream",
     "text": [
      "[Stage 99:====================================>                     (5 + 3) / 8]"
     ]
    },
    {
     "name": "stdout",
     "output_type": "stream",
     "text": [
      "+---------------+\n",
      "|count(VendorID)|\n",
      "+---------------+\n",
      "|         128632|\n",
      "+---------------+\n",
      "\n"
     ]
    },
    {
     "name": "stderr",
     "output_type": "stream",
     "text": [
      "                                                                                "
     ]
    }
   ],
   "source": [
    "spark.sql('''\n",
    "select \n",
    "    count(VendorID)\n",
    "from\n",
    "    yellow_trips_data\n",
    "where\n",
    "    date_trunc('day', tpep_pickup_datetime) = '2024-10-15'\n",
    "''').show()"
   ]
  },
  {
   "cell_type": "code",
   "execution_count": 99,
   "id": "70c251a2-ede4-4add-9ee3-4ad42dcbee5d",
   "metadata": {},
   "outputs": [
    {
     "name": "stderr",
     "output_type": "stream",
     "text": [
      "[Stage 102:===================================>                     (5 + 3) / 8]"
     ]
    },
    {
     "name": "stdout",
     "output_type": "stream",
     "text": [
      "+--------+\n",
      "|duration|\n",
      "+--------+\n",
      "|     162|\n",
      "+--------+\n",
      "\n"
     ]
    },
    {
     "name": "stderr",
     "output_type": "stream",
     "text": [
      "                                                                                "
     ]
    }
   ],
   "source": [
    "spark.sql('''\n",
    "select \n",
    "    timestampdiff(hour, tpep_pickup_datetime, tpep_dropoff_datetime) as duration\n",
    "from\n",
    "    yellow_trips_data\n",
    "order by\n",
    "    timestampdiff(hour, tpep_pickup_datetime, tpep_dropoff_datetime) desc\n",
    "limit 1\n",
    "''').show()"
   ]
  },
  {
   "cell_type": "code",
   "execution_count": 100,
   "id": "6c9084d2-345a-4c8c-b046-8256c5211335",
   "metadata": {
    "collapsed": true,
    "jupyter": {
     "outputs_hidden": true
    }
   },
   "outputs": [
    {
     "name": "stdout",
     "output_type": "stream",
     "text": [
      "\"LocationID\",\"Borough\",\"Zone\",\"service_zone\"\n",
      "1,\"EWR\",\"Newark Airport\",\"EWR\"\n",
      "2,\"Queens\",\"Jamaica Bay\",\"Boro Zone\"\n",
      "3,\"Bronx\",\"Allerton/Pelham Gardens\",\"Boro Zone\"\n",
      "4,\"Manhattan\",\"Alphabet City\",\"Yellow Zone\"\n",
      "5,\"Staten Island\",\"Arden Heights\",\"Boro Zone\"\n",
      "6,\"Staten Island\",\"Arrochar/Fort Wadsworth\",\"Boro Zone\"\n",
      "7,\"Queens\",\"Astoria\",\"Boro Zone\"\n",
      "8,\"Queens\",\"Astoria Park\",\"Boro Zone\"\n",
      "9,\"Queens\",\"Auburndale\",\"Boro Zone\"\n",
      "10,\"Queens\",\"Baisley Park\",\"Boro Zone\"\n",
      "11,\"Brooklyn\",\"Bath Beach\",\"Boro Zone\"\n",
      "12,\"Manhattan\",\"Battery Park\",\"Yellow Zone\"\n",
      "13,\"Manhattan\",\"Battery Park City\",\"Yellow Zone\"\n",
      "14,\"Brooklyn\",\"Bay Ridge\",\"Boro Zone\"\n",
      "15,\"Queens\",\"Bay Terrace/Fort Totten\",\"Boro Zone\"\n",
      "16,\"Queens\",\"Bayside\",\"Boro Zone\"\n",
      "17,\"Brooklyn\",\"Bedford\",\"Boro Zone\"\n",
      "18,\"Bronx\",\"Bedford Park\",\"Boro Zone\"\n",
      "19,\"Queens\",\"Bellerose\",\"Boro Zone\"\n",
      "20,\"Bronx\",\"Belmont\",\"Boro Zone\"\n",
      "21,\"Brooklyn\",\"Bensonhurst East\",\"Boro Zone\"\n",
      "22,\"Brooklyn\",\"Bensonhurst West\",\"Boro Zone\"\n",
      "23,\"Staten Island\",\"Bloomfield/Emerson Hill\",\"Boro Zone\"\n",
      "24,\"Manhattan\",\"Bloomingdale\",\"Yellow Zone\"\n",
      "25,\"Brooklyn\",\"Boerum Hill\",\"Boro Zone\"\n",
      "26,\"Brooklyn\",\"Borough Park\",\"Boro Zone\"\n",
      "27,\"Queens\",\"Breezy Point/Fort Tilden/Riis Beach\",\"Boro Zone\"\n",
      "28,\"Queens\",\"Briarwood/Jamaica Hills\",\"Boro Zone\"\n",
      "29,\"Brooklyn\",\"Brighton Beach\",\"Boro Zone\"\n",
      "30,\"Queens\",\"Broad Channel\",\"Boro Zone\"\n",
      "31,\"Bronx\",\"Bronx Park\",\"Boro Zone\"\n",
      "32,\"Bronx\",\"Bronxdale\",\"Boro Zone\"\n",
      "33,\"Brooklyn\",\"Brooklyn Heights\",\"Boro Zone\"\n",
      "34,\"Brooklyn\",\"Brooklyn Navy Yard\",\"Boro Zone\"\n",
      "35,\"Brooklyn\",\"Brownsville\",\"Boro Zone\"\n",
      "36,\"Brooklyn\",\"Bushwick North\",\"Boro Zone\"\n",
      "37,\"Brooklyn\",\"Bushwick South\",\"Boro Zone\"\n",
      "38,\"Queens\",\"Cambria Heights\",\"Boro Zone\"\n",
      "39,\"Brooklyn\",\"Canarsie\",\"Boro Zone\"\n",
      "40,\"Brooklyn\",\"Carroll Gardens\",\"Boro Zone\"\n",
      "41,\"Manhattan\",\"Central Harlem\",\"Boro Zone\"\n",
      "42,\"Manhattan\",\"Central Harlem North\",\"Boro Zone\"\n",
      "43,\"Manhattan\",\"Central Park\",\"Yellow Zone\"\n",
      "44,\"Staten Island\",\"Charleston/Tottenville\",\"Boro Zone\"\n",
      "45,\"Manhattan\",\"Chinatown\",\"Yellow Zone\"\n",
      "46,\"Bronx\",\"City Island\",\"Boro Zone\"\n",
      "47,\"Bronx\",\"Claremont/Bathgate\",\"Boro Zone\"\n",
      "48,\"Manhattan\",\"Clinton East\",\"Yellow Zone\"\n",
      "49,\"Brooklyn\",\"Clinton Hill\",\"Boro Zone\"\n",
      "50,\"Manhattan\",\"Clinton West\",\"Yellow Zone\"\n",
      "51,\"Bronx\",\"Co-Op City\",\"Boro Zone\"\n",
      "52,\"Brooklyn\",\"Cobble Hill\",\"Boro Zone\"\n",
      "53,\"Queens\",\"College Point\",\"Boro Zone\"\n",
      "54,\"Brooklyn\",\"Columbia Street\",\"Boro Zone\"\n",
      "55,\"Brooklyn\",\"Coney Island\",\"Boro Zone\"\n",
      "56,\"Queens\",\"Corona\",\"Boro Zone\"\n",
      "57,\"Queens\",\"Corona\",\"Boro Zone\"\n",
      "58,\"Bronx\",\"Country Club\",\"Boro Zone\"\n",
      "59,\"Bronx\",\"Crotona Park\",\"Boro Zone\"\n",
      "60,\"Bronx\",\"Crotona Park East\",\"Boro Zone\"\n",
      "61,\"Brooklyn\",\"Crown Heights North\",\"Boro Zone\"\n",
      "62,\"Brooklyn\",\"Crown Heights South\",\"Boro Zone\"\n",
      "63,\"Brooklyn\",\"Cypress Hills\",\"Boro Zone\"\n",
      "64,\"Queens\",\"Douglaston\",\"Boro Zone\"\n",
      "65,\"Brooklyn\",\"Downtown Brooklyn/MetroTech\",\"Boro Zone\"\n",
      "66,\"Brooklyn\",\"DUMBO/Vinegar Hill\",\"Boro Zone\"\n",
      "67,\"Brooklyn\",\"Dyker Heights\",\"Boro Zone\"\n",
      "68,\"Manhattan\",\"East Chelsea\",\"Yellow Zone\"\n",
      "69,\"Bronx\",\"East Concourse/Concourse Village\",\"Boro Zone\"\n",
      "70,\"Queens\",\"East Elmhurst\",\"Boro Zone\"\n",
      "71,\"Brooklyn\",\"East Flatbush/Farragut\",\"Boro Zone\"\n",
      "72,\"Brooklyn\",\"East Flatbush/Remsen Village\",\"Boro Zone\"\n",
      "73,\"Queens\",\"East Flushing\",\"Boro Zone\"\n",
      "74,\"Manhattan\",\"East Harlem North\",\"Boro Zone\"\n",
      "75,\"Manhattan\",\"East Harlem South\",\"Boro Zone\"\n",
      "76,\"Brooklyn\",\"East New York\",\"Boro Zone\"\n",
      "77,\"Brooklyn\",\"East New York/Pennsylvania Avenue\",\"Boro Zone\"\n",
      "78,\"Bronx\",\"East Tremont\",\"Boro Zone\"\n",
      "79,\"Manhattan\",\"East Village\",\"Yellow Zone\"\n",
      "80,\"Brooklyn\",\"East Williamsburg\",\"Boro Zone\"\n",
      "81,\"Bronx\",\"Eastchester\",\"Boro Zone\"\n",
      "82,\"Queens\",\"Elmhurst\",\"Boro Zone\"\n",
      "83,\"Queens\",\"Elmhurst/Maspeth\",\"Boro Zone\"\n",
      "84,\"Staten Island\",\"Eltingville/Annadale/Prince's Bay\",\"Boro Zone\"\n",
      "85,\"Brooklyn\",\"Erasmus\",\"Boro Zone\"\n",
      "86,\"Queens\",\"Far Rockaway\",\"Boro Zone\"\n",
      "87,\"Manhattan\",\"Financial District North\",\"Yellow Zone\"\n",
      "88,\"Manhattan\",\"Financial District South\",\"Yellow Zone\"\n",
      "89,\"Brooklyn\",\"Flatbush/Ditmas Park\",\"Boro Zone\"\n",
      "90,\"Manhattan\",\"Flatiron\",\"Yellow Zone\"\n",
      "91,\"Brooklyn\",\"Flatlands\",\"Boro Zone\"\n",
      "92,\"Queens\",\"Flushing\",\"Boro Zone\"\n",
      "93,\"Queens\",\"Flushing Meadows-Corona Park\",\"Boro Zone\"\n",
      "94,\"Bronx\",\"Fordham South\",\"Boro Zone\"\n",
      "95,\"Queens\",\"Forest Hills\",\"Boro Zone\"\n",
      "96,\"Queens\",\"Forest Park/Highland Park\",\"Boro Zone\"\n",
      "97,\"Brooklyn\",\"Fort Greene\",\"Boro Zone\"\n",
      "98,\"Queens\",\"Fresh Meadows\",\"Boro Zone\"\n",
      "99,\"Staten Island\",\"Freshkills Park\",\"Boro Zone\"\n",
      "100,\"Manhattan\",\"Garment District\",\"Yellow Zone\"\n",
      "101,\"Queens\",\"Glen Oaks\",\"Boro Zone\"\n",
      "102,\"Queens\",\"Glendale\",\"Boro Zone\"\n",
      "103,\"Manhattan\",\"Governor's Island/Ellis Island/Liberty Island\",\"Yellow Zone\"\n",
      "104,\"Manhattan\",\"Governor's Island/Ellis Island/Liberty Island\",\"Yellow Zone\"\n",
      "105,\"Manhattan\",\"Governor's Island/Ellis Island/Liberty Island\",\"Yellow Zone\"\n",
      "106,\"Brooklyn\",\"Gowanus\",\"Boro Zone\"\n",
      "107,\"Manhattan\",\"Gramercy\",\"Yellow Zone\"\n",
      "108,\"Brooklyn\",\"Gravesend\",\"Boro Zone\"\n",
      "109,\"Staten Island\",\"Great Kills\",\"Boro Zone\"\n",
      "110,\"Staten Island\",\"Great Kills Park\",\"Boro Zone\"\n",
      "111,\"Brooklyn\",\"Green-Wood Cemetery\",\"Boro Zone\"\n",
      "112,\"Brooklyn\",\"Greenpoint\",\"Boro Zone\"\n",
      "113,\"Manhattan\",\"Greenwich Village North\",\"Yellow Zone\"\n",
      "114,\"Manhattan\",\"Greenwich Village South\",\"Yellow Zone\"\n",
      "115,\"Staten Island\",\"Grymes Hill/Clifton\",\"Boro Zone\"\n",
      "116,\"Manhattan\",\"Hamilton Heights\",\"Boro Zone\"\n",
      "117,\"Queens\",\"Hammels/Arverne\",\"Boro Zone\"\n",
      "118,\"Staten Island\",\"Heartland Village/Todt Hill\",\"Boro Zone\"\n",
      "119,\"Bronx\",\"Highbridge\",\"Boro Zone\"\n",
      "120,\"Manhattan\",\"Highbridge Park\",\"Boro Zone\"\n",
      "121,\"Queens\",\"Hillcrest/Pomonok\",\"Boro Zone\"\n",
      "122,\"Queens\",\"Hollis\",\"Boro Zone\"\n",
      "123,\"Brooklyn\",\"Homecrest\",\"Boro Zone\"\n",
      "124,\"Queens\",\"Howard Beach\",\"Boro Zone\"\n",
      "125,\"Manhattan\",\"Hudson Sq\",\"Yellow Zone\"\n",
      "126,\"Bronx\",\"Hunts Point\",\"Boro Zone\"\n",
      "127,\"Manhattan\",\"Inwood\",\"Boro Zone\"\n",
      "128,\"Manhattan\",\"Inwood Hill Park\",\"Boro Zone\"\n",
      "129,\"Queens\",\"Jackson Heights\",\"Boro Zone\"\n",
      "130,\"Queens\",\"Jamaica\",\"Boro Zone\"\n",
      "131,\"Queens\",\"Jamaica Estates\",\"Boro Zone\"\n",
      "132,\"Queens\",\"JFK Airport\",\"Airports\"\n",
      "133,\"Brooklyn\",\"Kensington\",\"Boro Zone\"\n",
      "134,\"Queens\",\"Kew Gardens\",\"Boro Zone\"\n",
      "135,\"Queens\",\"Kew Gardens Hills\",\"Boro Zone\"\n",
      "136,\"Bronx\",\"Kingsbridge Heights\",\"Boro Zone\"\n",
      "137,\"Manhattan\",\"Kips Bay\",\"Yellow Zone\"\n",
      "138,\"Queens\",\"LaGuardia Airport\",\"Airports\"\n",
      "139,\"Queens\",\"Laurelton\",\"Boro Zone\"\n",
      "140,\"Manhattan\",\"Lenox Hill East\",\"Yellow Zone\"\n",
      "141,\"Manhattan\",\"Lenox Hill West\",\"Yellow Zone\"\n",
      "142,\"Manhattan\",\"Lincoln Square East\",\"Yellow Zone\"\n",
      "143,\"Manhattan\",\"Lincoln Square West\",\"Yellow Zone\"\n",
      "144,\"Manhattan\",\"Little Italy/NoLiTa\",\"Yellow Zone\"\n",
      "145,\"Queens\",\"Long Island City/Hunters Point\",\"Boro Zone\"\n",
      "146,\"Queens\",\"Long Island City/Queens Plaza\",\"Boro Zone\"\n",
      "147,\"Bronx\",\"Longwood\",\"Boro Zone\"\n",
      "148,\"Manhattan\",\"Lower East Side\",\"Yellow Zone\"\n",
      "149,\"Brooklyn\",\"Madison\",\"Boro Zone\"\n",
      "150,\"Brooklyn\",\"Manhattan Beach\",\"Boro Zone\"\n",
      "151,\"Manhattan\",\"Manhattan Valley\",\"Yellow Zone\"\n",
      "152,\"Manhattan\",\"Manhattanville\",\"Boro Zone\"\n",
      "153,\"Manhattan\",\"Marble Hill\",\"Boro Zone\"\n",
      "154,\"Brooklyn\",\"Marine Park/Floyd Bennett Field\",\"Boro Zone\"\n",
      "155,\"Brooklyn\",\"Marine Park/Mill Basin\",\"Boro Zone\"\n",
      "156,\"Staten Island\",\"Mariners Harbor\",\"Boro Zone\"\n",
      "157,\"Queens\",\"Maspeth\",\"Boro Zone\"\n",
      "158,\"Manhattan\",\"Meatpacking/West Village West\",\"Yellow Zone\"\n",
      "159,\"Bronx\",\"Melrose South\",\"Boro Zone\"\n",
      "160,\"Queens\",\"Middle Village\",\"Boro Zone\"\n",
      "161,\"Manhattan\",\"Midtown Center\",\"Yellow Zone\"\n",
      "162,\"Manhattan\",\"Midtown East\",\"Yellow Zone\"\n",
      "163,\"Manhattan\",\"Midtown North\",\"Yellow Zone\"\n",
      "164,\"Manhattan\",\"Midtown South\",\"Yellow Zone\"\n",
      "165,\"Brooklyn\",\"Midwood\",\"Boro Zone\"\n",
      "166,\"Manhattan\",\"Morningside Heights\",\"Boro Zone\"\n",
      "167,\"Bronx\",\"Morrisania/Melrose\",\"Boro Zone\"\n",
      "168,\"Bronx\",\"Mott Haven/Port Morris\",\"Boro Zone\"\n",
      "169,\"Bronx\",\"Mount Hope\",\"Boro Zone\"\n",
      "170,\"Manhattan\",\"Murray Hill\",\"Yellow Zone\"\n",
      "171,\"Queens\",\"Murray Hill-Queens\",\"Boro Zone\"\n",
      "172,\"Staten Island\",\"New Dorp/Midland Beach\",\"Boro Zone\"\n",
      "173,\"Queens\",\"North Corona\",\"Boro Zone\"\n",
      "174,\"Bronx\",\"Norwood\",\"Boro Zone\"\n",
      "175,\"Queens\",\"Oakland Gardens\",\"Boro Zone\"\n",
      "176,\"Staten Island\",\"Oakwood\",\"Boro Zone\"\n",
      "177,\"Brooklyn\",\"Ocean Hill\",\"Boro Zone\"\n",
      "178,\"Brooklyn\",\"Ocean Parkway South\",\"Boro Zone\"\n",
      "179,\"Queens\",\"Old Astoria\",\"Boro Zone\"\n",
      "180,\"Queens\",\"Ozone Park\",\"Boro Zone\"\n",
      "181,\"Brooklyn\",\"Park Slope\",\"Boro Zone\"\n",
      "182,\"Bronx\",\"Parkchester\",\"Boro Zone\"\n",
      "183,\"Bronx\",\"Pelham Bay\",\"Boro Zone\"\n",
      "184,\"Bronx\",\"Pelham Bay Park\",\"Boro Zone\"\n",
      "185,\"Bronx\",\"Pelham Parkway\",\"Boro Zone\"\n",
      "186,\"Manhattan\",\"Penn Station/Madison Sq West\",\"Yellow Zone\"\n",
      "187,\"Staten Island\",\"Port Richmond\",\"Boro Zone\"\n",
      "188,\"Brooklyn\",\"Prospect-Lefferts Gardens\",\"Boro Zone\"\n",
      "189,\"Brooklyn\",\"Prospect Heights\",\"Boro Zone\"\n",
      "190,\"Brooklyn\",\"Prospect Park\",\"Boro Zone\"\n",
      "191,\"Queens\",\"Queens Village\",\"Boro Zone\"\n",
      "192,\"Queens\",\"Queensboro Hill\",\"Boro Zone\"\n",
      "193,\"Queens\",\"Queensbridge/Ravenswood\",\"Boro Zone\"\n",
      "194,\"Manhattan\",\"Randalls Island\",\"Yellow Zone\"\n",
      "195,\"Brooklyn\",\"Red Hook\",\"Boro Zone\"\n",
      "196,\"Queens\",\"Rego Park\",\"Boro Zone\"\n",
      "197,\"Queens\",\"Richmond Hill\",\"Boro Zone\"\n",
      "198,\"Queens\",\"Ridgewood\",\"Boro Zone\"\n",
      "199,\"Bronx\",\"Rikers Island\",\"Boro Zone\"\n",
      "200,\"Bronx\",\"Riverdale/North Riverdale/Fieldston\",\"Boro Zone\"\n",
      "201,\"Queens\",\"Rockaway Park\",\"Boro Zone\"\n",
      "202,\"Manhattan\",\"Roosevelt Island\",\"Boro Zone\"\n",
      "203,\"Queens\",\"Rosedale\",\"Boro Zone\"\n",
      "204,\"Staten Island\",\"Rossville/Woodrow\",\"Boro Zone\"\n",
      "205,\"Queens\",\"Saint Albans\",\"Boro Zone\"\n",
      "206,\"Staten Island\",\"Saint George/New Brighton\",\"Boro Zone\"\n",
      "207,\"Queens\",\"Saint Michaels Cemetery/Woodside\",\"Boro Zone\"\n",
      "208,\"Bronx\",\"Schuylerville/Edgewater Park\",\"Boro Zone\"\n",
      "209,\"Manhattan\",\"Seaport\",\"Yellow Zone\"\n",
      "210,\"Brooklyn\",\"Sheepshead Bay\",\"Boro Zone\"\n",
      "211,\"Manhattan\",\"SoHo\",\"Yellow Zone\"\n",
      "212,\"Bronx\",\"Soundview/Bruckner\",\"Boro Zone\"\n",
      "213,\"Bronx\",\"Soundview/Castle Hill\",\"Boro Zone\"\n",
      "214,\"Staten Island\",\"South Beach/Dongan Hills\",\"Boro Zone\"\n",
      "215,\"Queens\",\"South Jamaica\",\"Boro Zone\"\n",
      "216,\"Queens\",\"South Ozone Park\",\"Boro Zone\"\n",
      "217,\"Brooklyn\",\"South Williamsburg\",\"Boro Zone\"\n",
      "218,\"Queens\",\"Springfield Gardens North\",\"Boro Zone\"\n",
      "219,\"Queens\",\"Springfield Gardens South\",\"Boro Zone\"\n",
      "220,\"Bronx\",\"Spuyten Duyvil/Kingsbridge\",\"Boro Zone\"\n",
      "221,\"Staten Island\",\"Stapleton\",\"Boro Zone\"\n",
      "222,\"Brooklyn\",\"Starrett City\",\"Boro Zone\"\n",
      "223,\"Queens\",\"Steinway\",\"Boro Zone\"\n",
      "224,\"Manhattan\",\"Stuy Town/Peter Cooper Village\",\"Yellow Zone\"\n",
      "225,\"Brooklyn\",\"Stuyvesant Heights\",\"Boro Zone\"\n",
      "226,\"Queens\",\"Sunnyside\",\"Boro Zone\"\n",
      "227,\"Brooklyn\",\"Sunset Park East\",\"Boro Zone\"\n",
      "228,\"Brooklyn\",\"Sunset Park West\",\"Boro Zone\"\n",
      "229,\"Manhattan\",\"Sutton Place/Turtle Bay North\",\"Yellow Zone\"\n",
      "230,\"Manhattan\",\"Times Sq/Theatre District\",\"Yellow Zone\"\n",
      "231,\"Manhattan\",\"TriBeCa/Civic Center\",\"Yellow Zone\"\n",
      "232,\"Manhattan\",\"Two Bridges/Seward Park\",\"Yellow Zone\"\n",
      "233,\"Manhattan\",\"UN/Turtle Bay South\",\"Yellow Zone\"\n",
      "234,\"Manhattan\",\"Union Sq\",\"Yellow Zone\"\n",
      "235,\"Bronx\",\"University Heights/Morris Heights\",\"Boro Zone\"\n",
      "236,\"Manhattan\",\"Upper East Side North\",\"Yellow Zone\"\n",
      "237,\"Manhattan\",\"Upper East Side South\",\"Yellow Zone\"\n",
      "238,\"Manhattan\",\"Upper West Side North\",\"Yellow Zone\"\n",
      "239,\"Manhattan\",\"Upper West Side South\",\"Yellow Zone\"\n",
      "240,\"Bronx\",\"Van Cortlandt Park\",\"Boro Zone\"\n",
      "241,\"Bronx\",\"Van Cortlandt Village\",\"Boro Zone\"\n",
      "242,\"Bronx\",\"Van Nest/Morris Park\",\"Boro Zone\"\n",
      "243,\"Manhattan\",\"Washington Heights North\",\"Boro Zone\"\n",
      "244,\"Manhattan\",\"Washington Heights South\",\"Boro Zone\"\n",
      "245,\"Staten Island\",\"West Brighton\",\"Boro Zone\"\n",
      "246,\"Manhattan\",\"West Chelsea/Hudson Yards\",\"Yellow Zone\"\n",
      "247,\"Bronx\",\"West Concourse\",\"Boro Zone\"\n",
      "248,\"Bronx\",\"West Farms/Bronx River\",\"Boro Zone\"\n",
      "249,\"Manhattan\",\"West Village\",\"Yellow Zone\"\n",
      "250,\"Bronx\",\"Westchester Village/Unionport\",\"Boro Zone\"\n",
      "251,\"Staten Island\",\"Westerleigh\",\"Boro Zone\"\n",
      "252,\"Queens\",\"Whitestone\",\"Boro Zone\"\n",
      "253,\"Queens\",\"Willets Point\",\"Boro Zone\"\n",
      "254,\"Bronx\",\"Williamsbridge/Olinville\",\"Boro Zone\"\n",
      "255,\"Brooklyn\",\"Williamsburg (North Side)\",\"Boro Zone\"\n",
      "256,\"Brooklyn\",\"Williamsburg (South Side)\",\"Boro Zone\"\n",
      "257,\"Brooklyn\",\"Windsor Terrace\",\"Boro Zone\"\n",
      "258,\"Queens\",\"Woodhaven\",\"Boro Zone\"\n",
      "259,\"Bronx\",\"Woodlawn/Wakefield\",\"Boro Zone\"\n",
      "260,\"Queens\",\"Woodside\",\"Boro Zone\"\n",
      "261,\"Manhattan\",\"World Trade Center\",\"Yellow Zone\"\n",
      "262,\"Manhattan\",\"Yorkville East\",\"Yellow Zone\"\n",
      "263,\"Manhattan\",\"Yorkville West\",\"Yellow Zone\"\n",
      "264,\"Unknown\",\"N/A\",\"N/A\"\n",
      "265,\"N/A\",\"Outside of NYC\",\"N/A\"\n"
     ]
    }
   ],
   "source": [
    "!curl taxi_zone_lookup.csv https://d37ci6vzurychx.cloudfront.net/misc/taxi_zone_lookup.csv"
   ]
  },
  {
   "cell_type": "code",
   "execution_count": 101,
   "id": "483ffefa-5a38-4145-9f00-dd52c2186354",
   "metadata": {},
   "outputs": [],
   "source": [
    "zone_shema = types.StructType([\n",
    "    types.StructField('LocationID', types.IntegerType(), True), \n",
    "    types.StructField('Borough', types.StringType(), True), \n",
    "    types.StructField('Zone', types.StringType(), True), \n",
    "    types.StructField('service_zone', types.StringType(), True)])"
   ]
  },
  {
   "cell_type": "code",
   "execution_count": 102,
   "id": "09cc3a19-5125-4987-90dd-0ab19e5d43ff",
   "metadata": {},
   "outputs": [],
   "source": [
    "zone = spark.read \\\n",
    "    .option(\"header\", \"true\") \\\n",
    "    .schema(zone_shema) \\\n",
    "    .csv('taxi_zone_lookup.csv')"
   ]
  },
  {
   "cell_type": "code",
   "execution_count": 118,
   "id": "4f026f83-aa42-4dea-81fa-86ad7942cbc0",
   "metadata": {},
   "outputs": [],
   "source": [
    "df_result = df.join(zone, df.PULocationID == zone.LocationID, how='inner')"
   ]
  },
  {
   "cell_type": "code",
   "execution_count": 119,
   "id": "018acd1a-6e7c-469e-ab5a-e18efa9d72e5",
   "metadata": {},
   "outputs": [],
   "source": [
    "df_result.registerTempTable('result')"
   ]
  },
  {
   "cell_type": "code",
   "execution_count": 124,
   "id": "93af486e-e799-42af-bdda-ad6a91070288",
   "metadata": {},
   "outputs": [
    {
     "name": "stderr",
     "output_type": "stream",
     "text": [
      "[Stage 120:============================>                            (4 + 4) / 8]"
     ]
    },
    {
     "name": "stdout",
     "output_type": "stream",
     "text": [
      "+--------------------+-------+\n",
      "|                Zone|num_rec|\n",
      "+--------------------+-------+\n",
      "|Governor's Island...|      1|\n",
      "|       Rikers Island|      2|\n",
      "|       Arden Heights|      2|\n",
      "|         Jamaica Bay|      3|\n",
      "| Green-Wood Cemetery|      3|\n",
      "|Charleston/Totten...|      4|\n",
      "|   Rossville/Woodrow|      4|\n",
      "|       West Brighton|      4|\n",
      "|Eltingville/Annad...|      4|\n",
      "|       Port Richmond|      4|\n",
      "|         Great Kills|      6|\n",
      "|        Crotona Park|      6|\n",
      "|Heartland Village...|      7|\n",
      "|     Mariners Harbor|      7|\n",
      "|Saint George/New ...|      9|\n",
      "|             Oakwood|      9|\n",
      "|       Broad Channel|     10|\n",
      "|New Dorp/Midland ...|     10|\n",
      "|         Westerleigh|     12|\n",
      "|     Pelham Bay Park|     12|\n",
      "+--------------------+-------+\n",
      "only showing top 20 rows\n",
      "\n"
     ]
    },
    {
     "name": "stderr",
     "output_type": "stream",
     "text": [
      "                                                                                "
     ]
    }
   ],
   "source": [
    "spark.sql('''\n",
    "select Zone, count(VendorID) as num_rec\n",
    "from result\n",
    "group by 1\n",
    "order by count(VendorID)\n",
    "''').show()"
   ]
  }
 ],
 "metadata": {
  "kernelspec": {
   "display_name": "Python 3 (ipykernel)",
   "language": "python",
   "name": "python3"
  },
  "language_info": {
   "codemirror_mode": {
    "name": "ipython",
    "version": 3
   },
   "file_extension": ".py",
   "mimetype": "text/x-python",
   "name": "python",
   "nbconvert_exporter": "python",
   "pygments_lexer": "ipython3",
   "version": "3.9.8"
  }
 },
 "nbformat": 4,
 "nbformat_minor": 5
}
